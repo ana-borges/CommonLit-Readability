{
 "cells": [
  {
   "cell_type": "code",
   "execution_count": 3,
   "metadata": {},
   "outputs": [
    {
     "name": "stderr",
     "output_type": "stream",
     "text": [
      "[nltk_data] Downloading package stopwords to /home/edu/nltk_data...\n",
      "[nltk_data]   Package stopwords is already up-to-date!\n"
     ]
    }
   ],
   "source": [
    "import pandas as pd\n",
    "import string\n",
    "import numpy as np\n",
    "import textstat as txst\n",
    "from sklearn.model_selection import train_test_split\n",
    "from sklearn import metrics\n",
    "import nltk\n",
    "from nltk.corpus import stopwords\n",
    "import statsmodels.api as sm\n",
    "\n",
    "train_df = pd.read_csv('data/train.csv', encoding = 'latin-1')\n",
    "\n",
    "train_df['rd_flesch_ease'] = train_df.excerpt.apply(txst.flesch_reading_ease)\n",
    "train_df['rd_dalechall'] = train_df.excerpt.apply(txst.dale_chall_readability_score)\n",
    "train_df['rd_colemanliau'] = train_df.excerpt.apply(txst.coleman_liau_index)\n",
    "\n",
    "# Cleaning\n",
    "train_df['excerpt'] = train_df['excerpt'].str.lower()#Remove punctuation\n",
    "table = str.maketrans('', '', string.punctuation)\n",
    "train_df['excerpt'] = [train_df['excerpt'][row].translate(table) for row in range(len(train_df['excerpt']))]#Remove stopwords\n",
    "\n",
    "nltk.download('stopwords')\n",
    "\n",
    "stop = stopwords.words('english')\n",
    "train_df['excerpt'] = train_df['excerpt'].apply(lambda x: \" \".join(x for x in x.split() if x not in stop))"
   ]
  },
  {
   "cell_type": "code",
   "execution_count": 5,
   "metadata": {},
   "outputs": [],
   "source": [
    "# TF-IDF\n",
    "\n",
    "from sklearn.feature_extraction.text import TfidfVectorizer\n",
    "\n",
    "vectorizer = TfidfVectorizer(norm=\"l2\")\n",
    "processed_text = vectorizer.fit_transform(train_df['excerpt']).toarray()\n",
    "\n",
    "train_df['processed_text'] = [sum(arr) for arr in processed_text]"
   ]
  },
  {
   "cell_type": "code",
   "execution_count": 37,
   "metadata": {},
   "outputs": [
    {
     "name": "stdout",
     "output_type": "stream",
     "text": [
      "['processed_text', 'standard_error', 'rd_flesch_ease', 'rd_dalechall', 'rd_colemanliau']\n",
      "                 Generalized Linear Model Regression Results                  \n",
      "==============================================================================\n",
      "Dep. Variable:                      y   No. Observations:                 2834\n",
      "Model:                            GLM   Df Residuals:                     2828\n",
      "Model Family:                Gaussian   Df Model:                            5\n",
      "Link Function:               identity   Scale:                         0.68081\n",
      "Method:                          IRLS   Log-Likelihood:                -3473.5\n",
      "Date:                Mon, 14 Jun 2021   Deviance:                       1925.3\n",
      "Time:                        21:38:14   Pearson chi2:                 1.93e+03\n",
      "No. Iterations:                     3                                         \n",
      "Covariance Type:            nonrobust                                         \n",
      "==============================================================================\n",
      "                 coef    std err          z      P>|z|      [0.025      0.975]\n",
      "------------------------------------------------------------------------------\n",
      "const          1.8275      0.326      5.599      0.000       1.188       2.467\n",
      "x1            -0.1978      0.016    -12.315      0.000      -0.229      -0.166\n",
      "x2            -2.5332      0.447     -5.665      0.000      -3.410      -1.657\n",
      "x3             0.0136      0.002      7.990      0.000       0.010       0.017\n",
      "x4            -0.1441      0.015     -9.591      0.000      -0.174      -0.115\n",
      "x5            -0.0075      0.011     -0.668      0.504      -0.029       0.014\n",
      "==============================================================================\n",
      "[-0.88402541 -0.62295246 -0.7370684  ... -0.13491683 -0.66419475\n",
      " -0.67518943]\n",
      "[-0.34025912 -0.31537234 -0.58011797 ...  0.25520938 -0.21527918\n",
      "  0.30077875]\n"
     ]
    }
   ],
   "source": [
    "feature_list = ['processed_text', 'standard_error', 'rd_flesch_ease', 'rd_dalechall', 'rd_colemanliau']\n",
    "data = np.array(train_df[feature_list])\n",
    "exog = sm.add_constant(np.array(train_df[feature_list]))\n",
    "endog = np.array(train_df['target'])\n",
    "glmGamma = sm.GLM(endog, exog, family=sm.families.Gaussian()).fit()\n",
    "print(feature_list)\n",
    "print(glmGamma.summary())\n",
    "y_pred = glmGamma.predict(exog)\n",
    "print(y_pred)\n",
    "print(endog)"
   ]
  }
 ],
 "metadata": {
  "kernelspec": {
   "display_name": "Python 3",
   "language": "python",
   "name": "python3"
  },
  "language_info": {
   "codemirror_mode": {
    "name": "ipython",
    "version": 3
   },
   "file_extension": ".py",
   "mimetype": "text/x-python",
   "name": "python",
   "nbconvert_exporter": "python",
   "pygments_lexer": "ipython3",
   "version": "3.8.5"
  }
 },
 "nbformat": 4,
 "nbformat_minor": 4
}
