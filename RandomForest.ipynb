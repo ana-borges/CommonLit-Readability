{
 "cells": [
  {
   "cell_type": "code",
   "execution_count": 1,
   "metadata": {},
   "outputs": [],
   "source": [
    "import pandas as pd\n",
    "import numpy as np\n",
    "import textstat as txst\n",
    "from sklearn.model_selection import train_test_split\n",
    "from sklearn.ensemble import RandomForestRegressor\n",
    "from sklearn import metrics\n",
    "\n",
    "\n",
    "train_df = pd.read_csv('data/train.csv', encoding = 'latin-1')\n",
    "train_df['rd_flesch_ease'] = train_df.excerpt.apply(txst.flesch_reading_ease)\n",
    "train_df['rd_dalechall'] = train_df.excerpt.apply(txst.dale_chall_readability_score)\n",
    "train_df['rd_colemanliau'] = train_df.excerpt.apply(txst.coleman_liau_index)\n",
    "\n",
    "# These are the values we want to predict\n",
    "targets = np.array(train_df['target'])\n",
    "\n",
    "# Remove the targets from the set\n",
    "# Convert pandas df to np arrays, saving the column headers\n",
    "train_df = train_df.drop(['id', 'target', 'url_legal', 'license', 'excerpt'], axis = 1)\n",
    "feature_list = list(train_df.columns)\n",
    "features = np.array(train_df)"
   ]
  },
  {
   "cell_type": "code",
   "execution_count": 2,
   "metadata": {},
   "outputs": [],
   "source": [
    "# Splitting data into training and testing sets\n",
    "train_features, test_features, train_labels, test_labels = train_test_split(features, targets, test_size = 0.25, random_state = 20)\n",
    "#### NOTE! I'm setting random_state to 20 so we get the same results every time we run the split.\n",
    "#### Results are reproducible, but maybe this is not the best approach"
   ]
  },
  {
   "cell_type": "code",
   "execution_count": 3,
   "metadata": {},
   "outputs": [
    {
     "name": "stdout",
     "output_type": "stream",
     "text": [
      "Training Features Shape: (2125, 4)\n",
      "Training Labels Shape: (2125,)\n",
      "Testing Features Shape: (709, 4)\n",
      "Testing Labels Shape: (709,)\n"
     ]
    }
   ],
   "source": [
    "# Sanity check: we expect the training features number of columns to match the testing feature number of columns \n",
    "# and the number of rows to match for the respective training and testing features and the labels\n",
    "print('Training Features Shape:', train_features.shape)\n",
    "print('Training Labels Shape:', train_labels.shape)\n",
    "print('Testing Features Shape:', test_features.shape)\n",
    "print('Testing Labels Shape:', test_labels.shape)"
   ]
  },
  {
   "cell_type": "code",
   "execution_count": 4,
   "metadata": {},
   "outputs": [
    {
     "name": "stdout",
     "output_type": "stream",
     "text": [
      "Average baseline error:  1.49\n"
     ]
    }
   ],
   "source": [
    "# We establish baseline: We want our model to beat the mean of the standard error.\n",
    "\n",
    "baseline_preds = test_features[:, feature_list.index('standard_error')]\n",
    "baseline_errors = abs(baseline_preds - test_labels)\n",
    "print('Average baseline error: ', round(np.mean(baseline_errors), 2))"
   ]
  },
  {
   "cell_type": "code",
   "execution_count": 5,
   "metadata": {},
   "outputs": [],
   "source": [
    "# Instantiate model with 1000 decision trees\n",
    "rf = RandomForestRegressor(n_estimators = 1000, random_state = 20)\n",
    "#### NOTE! random_state again\n",
    "\n",
    "# Train the model on training data\n",
    "rf.fit(train_features, train_labels);"
   ]
  },
  {
   "cell_type": "code",
   "execution_count": 6,
   "metadata": {},
   "outputs": [
    {
     "name": "stdout",
     "output_type": "stream",
     "text": [
      "Mean Absolute Error (MAE): 0.5577004881819099\n",
      "Mean Squared Error (MSE): 0.5632883943672775\n",
      "Root Mean Squared Error (RMSE): 0.7505254122061941\n"
     ]
    }
   ],
   "source": [
    "# Predictions on the test data\n",
    "pred = rf.predict(test_features)\n",
    "\n",
    "# Compute performance\n",
    "print('Mean Absolute Error (MAE):', metrics.mean_absolute_error(test_labels, pred))\n",
    "print('Mean Squared Error (MSE):', metrics.mean_squared_error(test_labels, pred))\n",
    "print('Root Mean Squared Error (RMSE):', np.sqrt(metrics.mean_squared_error(test_labels, pred)))"
   ]
  }
 ],
 "metadata": {
  "kernelspec": {
   "display_name": "Python 3",
   "language": "python",
   "name": "python3"
  },
  "language_info": {
   "codemirror_mode": {
    "name": "ipython",
    "version": 3
   },
   "file_extension": ".py",
   "mimetype": "text/x-python",
   "name": "python",
   "nbconvert_exporter": "python",
   "pygments_lexer": "ipython3",
   "version": "3.8.5"
  }
 },
 "nbformat": 4,
 "nbformat_minor": 4
}
